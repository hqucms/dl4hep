{
 "cells": [
  {
   "attachments": {},
   "cell_type": "markdown",
   "metadata": {},
   "source": [
    "# Preparation"
   ]
  },
  {
   "attachments": {},
   "cell_type": "markdown",
   "metadata": {},
   "source": [
    "Install the necessary packages:"
   ]
  },
  {
   "cell_type": "code",
   "execution_count": null,
   "metadata": {
    "vscode": {
     "languageId": "shellscript"
    }
   },
   "outputs": [],
   "source": [
    "! pip install numpy awkward vector uproot lz4 xxhash pandas matplotlib tqdm\n"
   ]
  },
  {
   "cell_type": "code",
   "execution_count": null,
   "metadata": {},
   "outputs": [],
   "source": [
    "import os\n",
    "import numpy as np\n",
    "import awkward as ak\n",
    "import uproot\n",
    "import matplotlib.pyplot as plt\n",
    "import vector\n",
    "vector.register_awkward()\n"
   ]
  },
  {
   "attachments": {},
   "cell_type": "markdown",
   "metadata": {},
   "source": [
    "Here defines some helper functions to visualize a jet:"
   ]
  },
  {
   "cell_type": "code",
   "execution_count": null,
   "metadata": {},
   "outputs": [],
   "source": [
    "import numpy as np\n",
    "import matplotlib.pyplot as plt\n",
    "import matplotlib as mpl\n",
    "\n",
    "typelist = ['ch+', 'ch-', 'nh', 'ph', 'el+', 'el-', 'mu+', 'mu-']\n",
    "\n",
    "\n",
    "def make_subplot(ax, data, force_xylim=None):\n",
    "    # default plotting configuration\n",
    "    color_dict_ = {'ch': 'C0', 'nh': 'mediumpurple', 'ph': 'orange', 'el': 'red', 'mu': 'green'}\n",
    "    color_dict = color_dict_.copy()\n",
    "    color_dict.update({k + '+': color_dict_[k] for k in color_dict_})\n",
    "    color_dict.update({k + '-': color_dict_[k] for k in color_dict_})\n",
    "    if data.get('id') is None:\n",
    "        data['id'] = ['default'] * len(data['pt'])\n",
    "    if data.get('e') is None:\n",
    "        for eta, phi, pt, id, d3d in zip(data['eta'], data['phi'], data['pt'], data['id'], data['d3d']):\n",
    "            ptdraw = np.sqrt(pt) / 200\n",
    "            alpha = 0.3\n",
    "            if id in [4, 5]:\n",
    "                ax.add_patch(mpl.patches.RegularPolygon((eta, phi), 3, radius=ptdraw, clip_on=True,\n",
    "                                                        alpha=alpha, edgecolor='black', **make_color_args(id, d3d)))\n",
    "            elif id in [6, 7]:\n",
    "                ax.add_patch(mpl.patches.RegularPolygon((eta, phi), 3, radius=ptdraw, orientation=np.pi,\n",
    "                                                        clip_on=True, alpha=alpha, edgecolor='black', **make_color_args(id, d3d)))\n",
    "            elif id in [3]:\n",
    "                ax.add_patch(mpl.patches.RegularPolygon((eta, phi), 5, radius=ptdraw,\n",
    "                                                        clip_on=True, alpha=alpha, **make_color_args(id, d3d)))\n",
    "            else:\n",
    "                ax.add_patch(plt.Circle((eta, phi), ptdraw, clip_on=True, alpha=alpha, **make_color_args(id, d3d)))\n",
    "    else:\n",
    "        for eta, phi, pt, e, id, d3d in zip(data['eta'], data['phi'], data['pt'], data['e'], data['id'], data['d3d']):\n",
    "            ax.add_patch(mpl.patches.Wedge((eta, phi), pt / 600., 90, 270,\n",
    "                                           clip_on=True, alpha=alpha, **make_color_args(id, d3d)))\n",
    "            ax.add_patch(mpl.patches.Wedge((eta, phi), e / 600., 270, 90,\n",
    "                                           clip_on=True, alpha=alpha, **make_color_args(id, d3d)))\n",
    "    max_ang = force_xylim if force_xylim else max(max(abs(data['eta'])), max(abs(data['phi'])))\n",
    "    # make square plot centered at (0,0)\n",
    "    ax.set_xlim(-max_ang, max_ang)\n",
    "    ax.set_ylim(-max_ang, max_ang)\n",
    "    ax.set_xlabel(r'$\\Delta\\eta$')\n",
    "    ax.set_ylabel(r'$\\Delta\\phi$')\n",
    "    ax.set_aspect('equal')\n",
    "    return max_ang\n",
    "\n",
    "\n",
    "def make_color_args(id, d3d):\n",
    "    color = color_fader('#74c476', '#081d58', d3d)\n",
    "    if id in [2, 3]:\n",
    "        return {'edgecolor': color, 'linewidth': 1, 'fill': False}\n",
    "    else:\n",
    "        return {'facecolor': color}\n",
    "\n",
    "\n",
    "def color_fader(c1, c2, mix=0):  # fade (linear interpolate) from color c1 (at mix=0) to c2 (mix=1)\n",
    "    mix = min(1., mix)\n",
    "    c1 = np.array(mpl.colors.to_rgb(c1))\n",
    "    c2 = np.array(mpl.colors.to_rgb(c2))\n",
    "    return mpl.colors.to_hex((1 - mix) * c1 + mix * c2)\n",
    "\n",
    "\n",
    "def visualize(arrays, idx=0, title=None, ax=None):\n",
    "    data = {}\n",
    "    data['pt'] = np.hypot(arrays[idx].part_px, arrays[idx].part_py)\n",
    "    data['eta'] = arrays[idx].part_deta\n",
    "    data['phi'] = arrays[idx].part_dphi\n",
    "    data['d3d'] = np.tanh(np.hypot(arrays[idx].part_d0val, arrays[idx].part_dzval))\n",
    "    part_type = np.concatenate([\n",
    "        [(arrays[idx].part_isChargedHadron) & (arrays[idx].part_charge == 1)],\n",
    "        [(arrays[idx].part_isChargedHadron) & (arrays[idx].part_charge == -1)],\n",
    "        [arrays[idx].part_isNeutralHadron],\n",
    "        [arrays[idx].part_isPhoton],\n",
    "        [(arrays[idx].part_isElectron) & (arrays[idx].part_charge == 1)],\n",
    "        [(arrays[idx].part_isElectron) & (arrays[idx].part_charge == -1)],\n",
    "        [(arrays[idx].part_isMuon) & (arrays[idx].part_charge == 1)],\n",
    "        [(arrays[idx].part_isMuon) & (arrays[idx].part_charge == -1)],\n",
    "    ], axis=0)\n",
    "    data['id'] = np.argmax(part_type.T, axis=1)  # better\n",
    "\n",
    "    assert len(data['eta'] == data['id'])\n",
    "    if ax is None:\n",
    "        _, ax = plt.subplots(figsize=(5, 5))\n",
    "    make_subplot(ax, data, force_xylim=0.5)\n",
    "    if title:\n",
    "        ax.set_title(title)\n",
    "    return ax\n"
   ]
  },
  {
   "attachments": {},
   "cell_type": "markdown",
   "metadata": {},
   "source": [
    "# Download the dataset"
   ]
  },
  {
   "cell_type": "code",
   "execution_count": null,
   "metadata": {},
   "outputs": [],
   "source": [
    "def download(url, fname, chunk_size=1024):\n",
    "    '''https://gist.github.com/yanqd0/c13ed29e29432e3cf3e7c38467f42f51'''\n",
    "    import requests\n",
    "    from tqdm import tqdm\n",
    "\n",
    "    if os.path.dirname(fname):\n",
    "        os.makedirs(os.path.dirname(fname), exist_ok=True)\n",
    "\n",
    "    resp = requests.get(url, stream=True)\n",
    "    total = int(resp.headers.get('content-length', 0))\n",
    "    with open(fname, 'wb') as file, tqdm(\n",
    "        desc=fname,\n",
    "        total=total,\n",
    "        unit='iB',\n",
    "        unit_scale=True,\n",
    "        unit_divisor=1024,\n",
    "    ) as bar:\n",
    "        for data in resp.iter_content(chunk_size=chunk_size):\n",
    "            size = file.write(data)\n",
    "            bar.update(size)\n"
   ]
  },
  {
   "cell_type": "code",
   "execution_count": null,
   "metadata": {},
   "outputs": [],
   "source": [
    "signal_file = './JetClassMini/TTBar_000.root'\n",
    "background_file = './JetClassMini/ZJetsToNuNu_000.root'\n",
    "\n",
    "if not os.path.exists(signal_file):\n",
    "    download('https://hqu.web.cern.ch/datasets/JetClassMini/TTBar_000.root', signal_file)\n",
    "if not os.path.exists(background_file):\n",
    "    download('https://hqu.web.cern.ch/datasets/JetClassMini/ZJetsToNuNu_000.root', background_file)\n"
   ]
  },
  {
   "attachments": {},
   "cell_type": "markdown",
   "metadata": {},
   "source": [
    "# Explore the dataset\n"
   ]
  },
  {
   "cell_type": "code",
   "execution_count": null,
   "metadata": {},
   "outputs": [],
   "source": [
    "# Load the content from the file\n",
    "signal_tree = uproot.open(signal_file)['tree']\n"
   ]
  },
  {
   "cell_type": "code",
   "execution_count": null,
   "metadata": {},
   "outputs": [],
   "source": [
    "# Display the content of the \"tree\"\n",
    "signal_tree.show()\n"
   ]
  },
  {
   "cell_type": "code",
   "execution_count": null,
   "metadata": {},
   "outputs": [],
   "source": [
    "# Load all arrays in the tree\n",
    "# Each array is a column of the table\n",
    "signal_table = signal_tree.arrays()\n"
   ]
  },
  {
   "cell_type": "code",
   "execution_count": null,
   "metadata": {},
   "outputs": [],
   "source": [
    "signal_table\n"
   ]
  },
  {
   "cell_type": "code",
   "execution_count": null,
   "metadata": {},
   "outputs": [],
   "source": [
    "background_table = uproot.open(background_file)['tree'].arrays()\n",
    "background_table\n"
   ]
  },
  {
   "cell_type": "code",
   "execution_count": null,
   "metadata": {},
   "outputs": [],
   "source": [
    "fig, axes = plt.subplots(2, 5, figsize=(25, 10), dpi=300)\n",
    "for idx in range(10):\n",
    "    visualize(signal_table, idx, title=f'Top quark jet {idx}', ax=axes[idx % 2][idx // 2])\n"
   ]
  },
  {
   "cell_type": "code",
   "execution_count": null,
   "metadata": {},
   "outputs": [],
   "source": [
    "fig, axes = plt.subplots(2, 5, figsize=(25, 10), dpi=300)\n",
    "for idx in range(10):\n",
    "    visualize(background_table, idx, title=f'q/g jet {idx}', ax=axes[idx % 2][idx // 2])\n"
   ]
  },
  {
   "attachments": {},
   "cell_type": "markdown",
   "metadata": {},
   "source": [
    "# Jet properties\n"
   ]
  },
  {
   "cell_type": "code",
   "execution_count": null,
   "metadata": {},
   "outputs": [],
   "source": [
    "jet_features = [k for k in signal_table.fields if k.startswith('jet_')]\n",
    "jet_features\n"
   ]
  },
  {
   "cell_type": "code",
   "execution_count": null,
   "metadata": {},
   "outputs": [],
   "source": [
    "df_jet_signal = ak.to_dataframe(signal_table[jet_features])\n",
    "df_jet_signal.head(10)\n"
   ]
  },
  {
   "cell_type": "code",
   "execution_count": null,
   "metadata": {},
   "outputs": [],
   "source": [
    "df_jet_background = ak.to_dataframe(background_table[jet_features])\n",
    "df_jet_background.head(10)\n"
   ]
  },
  {
   "cell_type": "code",
   "execution_count": null,
   "metadata": {},
   "outputs": [],
   "source": [
    "for k in jet_features:\n",
    "    plt.figure(figsize=(5,5), dpi=150)\n",
    "    plt.hist([df_jet_signal[k], df_jet_background[k]], \n",
    "             bins=50, label=['Top', 'q/g'], histtype='step', density=True)\n",
    "    plt.xlabel(k)\n",
    "    plt.legend()\n"
   ]
  },
  {
   "attachments": {},
   "cell_type": "markdown",
   "metadata": {},
   "source": [
    "# Jet constituent properties\n"
   ]
  },
  {
   "cell_type": "code",
   "execution_count": null,
   "metadata": {},
   "outputs": [],
   "source": [
    "particle_features = [k for k in signal_table.fields if k.startswith('part_')]\n",
    "particle_features\n"
   ]
  },
  {
   "cell_type": "code",
   "execution_count": null,
   "metadata": {},
   "outputs": [],
   "source": [
    "def plot_particle_features(name):\n",
    "    fig, axes = plt.subplots(1, 2, figsize=(10, 5), dpi=300)\n",
    "    axes[0].hist([ak.flatten(signal_table[name]), ak.flatten(background_table[name])],\n",
    "                 bins=50, label=['Top', 'q/g'], histtype='step', density=True)\n",
    "    axes[0].set_xlabel(name)\n",
    "    axes[0].legend()\n",
    "\n",
    "    axes[1].hist([ak.flatten(signal_table[name]), ak.flatten(background_table[name])],\n",
    "                 bins=50, label=['Top', 'q/g'], histtype='step', density=True)\n",
    "    axes[1].set_xlabel(name)\n",
    "    axes[1].set_yscale('log')\n",
    "    axes[1].legend()\n"
   ]
  },
  {
   "cell_type": "code",
   "execution_count": null,
   "metadata": {},
   "outputs": [],
   "source": [
    "for name in particle_features:\n",
    "    plot_particle_features(name)\n"
   ]
  },
  {
   "cell_type": "code",
   "execution_count": null,
   "metadata": {},
   "outputs": [],
   "source": [
    "# Construct a Lorentz 4-vector from the (px, py, pz, energy) arrays\n",
    "def add_features(table):\n",
    "    table['part_p4'] = vector.zip({'px': table['part_px'],\n",
    "                                   'py': table['part_py'],\n",
    "                                   'pz': table['part_pz'],\n",
    "                                   'energy': table['part_energy']})\n",
    "    table['part_pt'] = table['part_p4'].pt\n",
    "    table['part_pt_log'] = np.log(table['part_p4'].pt)\n"
   ]
  },
  {
   "cell_type": "code",
   "execution_count": null,
   "metadata": {},
   "outputs": [],
   "source": [
    "add_features(signal_table)\n",
    "add_features(background_table)\n",
    "\n",
    "plot_particle_features('part_pt')\n",
    "plot_particle_features('part_pt_log')\n"
   ]
  },
  {
   "attachments": {},
   "cell_type": "markdown",
   "metadata": {},
   "source": [
    "In addition to the log transformation, another useful transformation is tanh(...), or tanh(const * ...):"
   ]
  },
  {
   "cell_type": "code",
   "execution_count": null,
   "metadata": {},
   "outputs": [],
   "source": [
    "signal_table['part_d0val_tanh'] = np.tanh(signal_table['part_d0val'])\n",
    "background_table['part_d0val_tanh'] = np.tanh(background_table['part_d0val'])\n",
    "plot_particle_features('part_d0val')\n",
    "plot_particle_features('part_d0val_tanh')\n"
   ]
  }
 ],
 "metadata": {
  "kernelspec": {
   "display_name": "base",
   "language": "python",
   "name": "python3"
  },
  "language_info": {
   "codemirror_mode": {
    "name": "ipython",
    "version": 3
   },
   "file_extension": ".py",
   "mimetype": "text/x-python",
   "name": "python",
   "nbconvert_exporter": "python",
   "pygments_lexer": "ipython3",
   "version": "3.9.7"
  },
  "orig_nbformat": 4
 },
 "nbformat": 4,
 "nbformat_minor": 2
}
